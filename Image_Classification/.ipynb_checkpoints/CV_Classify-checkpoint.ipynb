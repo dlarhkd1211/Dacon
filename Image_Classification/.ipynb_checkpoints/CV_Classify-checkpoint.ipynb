{
 "cells": [
  {
   "cell_type": "code",
   "execution_count": 1,
   "metadata": {},
   "outputs": [],
   "source": [
    "import tensorflow as tf\n",
    "\n",
    "gpus = tf.config.experimental.list_physical_devices('GPU')\n",
    "tf.config.experimental.set_memory_growth(gpus[0], True)"
   ]
  },
  {
   "cell_type": "code",
   "execution_count": 2,
   "metadata": {},
   "outputs": [],
   "source": [
    "import os\n",
    "import numpy as np\n",
    "from glob import glob\n",
    "from tqdm import tqdm\n",
    "\n",
    "import matplotlib.pyplot as plt\n",
    "import seaborn as sns\n",
    "import cv2\n",
    "from PIL import Image"
   ]
  },
  {
   "cell_type": "code",
   "execution_count": 3,
   "metadata": {},
   "outputs": [],
   "source": [
    "path = 'C://Dacon_data/Image_Classification/data/'"
   ]
  },
  {
   "cell_type": "code",
   "execution_count": 4,
   "metadata": {},
   "outputs": [],
   "source": [
    "train_path = path + 'train'\n",
    "test_path = path + 'test'"
   ]
  },
  {
   "cell_type": "code",
   "execution_count": 5,
   "metadata": {},
   "outputs": [],
   "source": [
    "train = glob(train_path + '/*/*')\n",
    "test = glob(test_path + '/*')"
   ]
  },
  {
   "cell_type": "code",
   "execution_count": 6,
   "metadata": {},
   "outputs": [
    {
     "data": {
      "text/plain": [
       "'C://Dacon_data/Image_Classification/data/train\\\\airplane\\\\0000.jpg'"
      ]
     },
     "execution_count": 6,
     "metadata": {},
     "output_type": "execute_result"
    }
   ],
   "source": [
    "train[0]"
   ]
  },
  {
   "cell_type": "code",
   "execution_count": 7,
   "metadata": {},
   "outputs": [],
   "source": [
    "img = Image.open(train[1])"
   ]
  },
  {
   "cell_type": "code",
   "execution_count": 8,
   "metadata": {},
   "outputs": [
    {
     "data": {
      "text/plain": [
       "<matplotlib.image.AxesImage at 0x1b90fa28988>"
      ]
     },
     "execution_count": 8,
     "metadata": {},
     "output_type": "execute_result"
    },
    {
     "data": {
      "image/png": "[encoded data removed]",
      "text/plain": [
       "<Figure size 432x288 with 1 Axes>"
      ]
     },
     "metadata": {
      "needs_background": "light"
     },
     "output_type": "display_data"
    }
   ],
   "source": [
    "plt.imshow(img)"
   ]
  },
  {
   "cell_type": "code",
   "execution_count": 9,
   "metadata": {},
   "outputs": [],
   "source": [
    "train_images = []\n",
    "train_labels = []\n",
    "test_images = []\n",
    "test_labels = []"
   ]
  },
  {
   "cell_type": "code",
   "execution_count": 10,
   "metadata": {},
   "outputs": [
    {
     "name": "stderr",
     "output_type": "stream",
     "text": [
      "100%|██████████████████████████████████████████████████████████████████████████| 50000/50000 [00:30<00:00, 1646.26it/s]\n"
     ]
    }
   ],
   "source": [
    "for i in tqdm(train):\n",
    "    sp = i.split('\\\\')\n",
    "    img = Image.open(i)\n",
    "    img = np.array(img)\n",
    "    train_images.append(img)\n",
    "    train_labels.append(sp[-2])\n"
   ]
  },
  {
   "cell_type": "code",
   "execution_count": 11,
   "metadata": {},
   "outputs": [
    {
     "data": {
      "text/plain": [
       "'C://Dacon_data/Image_Classification/data/test\\\\0000.jpg'"
      ]
     },
     "execution_count": 11,
     "metadata": {},
     "output_type": "execute_result"
    }
   ],
   "source": [
    "test[0]"
   ]
  },
  {
   "cell_type": "code",
   "execution_count": 12,
   "metadata": {},
   "outputs": [
    {
     "name": "stderr",
     "output_type": "stream",
     "text": [
      "100%|██████████████████████████████████████████████████████████████████████████| 10000/10000 [00:05<00:00, 1673.16it/s]\n"
     ]
    }
   ],
   "source": [
    "for i in tqdm(test):\n",
    "    img = Image.open(i)\n",
    "    img = np.array(img)\n",
    "    test_images.append(img)\n"
   ]
  },
  {
   "cell_type": "code",
   "execution_count": 13,
   "metadata": {},
   "outputs": [
    {
     "name": "stderr",
     "output_type": "stream",
     "text": [
      "C:\\Users\\dlarh\\anaconda3\\envs\\MPS\\lib\\site-packages\\seaborn\\_decorators.py:43: FutureWarning: Pass the following variable as a keyword arg: x. From version 0.12, the only valid positional argument will be `data`, and passing other arguments without an explicit keyword will result in an error or misinterpretation.\n",
      "  FutureWarning\n"
     ]
    },
    {
     "data": {
      "image/png": "[encoded data removed]",
      "text/plain": [
       "<Figure size 720x360 with 1 Axes>"
      ]
     },
     "metadata": {
      "needs_background": "light"
     },
     "output_type": "display_data"
    }
   ],
   "source": [
    "plt.figure(figsize = (10, 5))\n",
    "sns.countplot(train_labels)\n",
    "plt.show()"
   ]
  },
  {
   "cell_type": "code",
   "execution_count": 14,
   "metadata": {},
   "outputs": [],
   "source": [
    "unq_lab = np.unique(train_labels)"
   ]
  },
  {
   "cell_type": "code",
   "execution_count": 15,
   "metadata": {},
   "outputs": [],
   "source": [
    "train_images = np.array(train_images)\n",
    "train_labels = np.array(train_labels)\n",
    "test_images = np.array(test_images)"
   ]
  },
  {
   "cell_type": "code",
   "execution_count": 16,
   "metadata": {},
   "outputs": [],
   "source": [
    "from sklearn.preprocessing import LabelEncoder"
   ]
  },
  {
   "cell_type": "code",
   "execution_count": 17,
   "metadata": {},
   "outputs": [],
   "source": [
    "lab = LabelEncoder()\n",
    "lab.fit(train_labels)\n",
    "train_labels = lab.transform(train_labels)"
   ]
  },
  {
   "cell_type": "code",
   "execution_count": null,
   "metadata": {},
   "outputs": [],
   "source": [
    "from sklearn.model_selection import train_test_split"
   ]
  },
  {
   "cell_type": "code",
   "execution_count": null,
   "metadata": {},
   "outputs": [],
   "source": [
    "train_images, val_images, train_labels, val_labels = train_test_split(train_images, train_labels, test_size = 0.2, stratify = train_labels, random_state = 42)"
   ]
  },
  {
   "cell_type": "code",
   "execution_count": 18,
   "metadata": {},
   "outputs": [],
   "source": [
    "from tensorflow import keras\n",
    "from tensorflow.keras.layers import *\n",
    "from tensorflow.keras.callbacks import EarlyStopping"
   ]
  },
  {
   "cell_type": "code",
   "execution_count": 22,
   "metadata": {},
   "outputs": [],
   "source": [
    "def conv2_block(x, filter_size):\n",
    "    x = Conv2D(filter_size, (3, 3), activation='relu', padding='same')(x)\n",
    "    x = Conv2D(filter_size, (3, 3), activation='relu', padding='same')(x)\n",
    "    return x"
   ]
  },
  {
   "cell_type": "code",
   "execution_count": 23,
   "metadata": {},
   "outputs": [],
   "source": [
    "def conv3_block(x, filter_size):\n",
    "    x = Conv2D(filter_size, (3, 3), activation='relu', padding='same')(x)\n",
    "    x = Conv2D(filter_size, (3, 3), activation='relu', padding='same')(x)\n",
    "    x = Conv2D(filter_size, (3, 3), activation='relu', padding='same')(x)\n",
    "    return x"
   ]
  },
  {
   "cell_type": "code",
   "execution_count": 24,
   "metadata": {},
   "outputs": [],
   "source": [
    "def dropout_block(x, dropout_rate):\n",
    "    x = Dropout(dropout_rate)(x)\n",
    "    return x"
   ]
  },
  {
   "cell_type": "code",
   "execution_count": 25,
   "metadata": {},
   "outputs": [],
   "source": [
    "def BN_block(x, momentum):\n",
    "    x = BatchNormalization(momentum = momentum)(x)\n",
    "    return x"
   ]
  },
  {
   "cell_type": "code",
   "execution_count": 26,
   "metadata": {},
   "outputs": [],
   "source": [
    "def maxpool_block(x):\n",
    "    x = MaxPooling2D((2, 2), strides=(2, 2))(x)\n",
    "    return x"
   ]
  },
  {
   "cell_type": "code",
   "execution_count": 27,
   "metadata": {},
   "outputs": [],
   "source": [
    "def dense_block(x, size , prediction = False):\n",
    "    if prediction:\n",
    "        x = Dense(size, activation = 'softmax')(x)\n",
    "    else:\n",
    "        x = Dense(size, activation = 'relu')(x)\n",
    "    return x"
   ]
  },
  {
   "cell_type": "code",
   "execution_count": 28,
   "metadata": {},
   "outputs": [],
   "source": [
    "img_input = keras.Input(shape = (32, 32, 3))"
   ]
  },
  {
   "cell_type": "code",
   "execution_count": 70,
   "metadata": {},
   "outputs": [],
   "source": [
    "x = conv2_block(img_input, 64)\n",
    "x = BN_block(x, 0.99)\n",
    "x = conv2_block(x, 128)\n",
    "x = BN_block(x, 0.99)\n",
    "x = maxpool_block(x)\n",
    "x = conv3_block(x, 128)\n",
    "x = BN_block(x, 0.99)\n",
    "x = conv3_block(x, 256)\n",
    "x = BN_block(x, 0.99)\n",
    "x = maxpool_block(x)\n",
    "x = Flatten()(x)\n",
    "x = dense_block(x, 128)\n",
    "x = dropout_block(x, 0.3)\n",
    "x = dense_block(x, len(unq_lab),True) "
   ]
  },
  {
   "cell_type": "code",
   "execution_count": 71,
   "metadata": {},
   "outputs": [
    {
     "name": "stdout",
     "output_type": "stream",
     "text": [
      "Model: \"model_5\"\n",
      "_________________________________________________________________\n",
      "Layer (type)                 Output Shape              Param #   \n",
      "=================================================================\n",
      "input_1 (InputLayer)         [(None, 32, 32, 3)]       0         \n",
      "_________________________________________________________________\n",
      "conv2d_20 (Conv2D)           (None, 32, 32, 64)        1792      \n",
      "_________________________________________________________________\n",
      "conv2d_21 (Conv2D)           (None, 32, 32, 64)        36928     \n",
      "_________________________________________________________________\n",
      "batch_normalization_8 (Batch (None, 32, 32, 64)        256       \n",
      "_________________________________________________________________\n",
      "conv2d_22 (Conv2D)           (None, 32, 32, 128)       73856     \n",
      "_________________________________________________________________\n",
      "conv2d_23 (Conv2D)           (None, 32, 32, 128)       147584    \n",
      "_________________________________________________________________\n",
      "batch_normalization_9 (Batch (None, 32, 32, 128)       512       \n",
      "_________________________________________________________________\n",
      "max_pooling2d_6 (MaxPooling2 (None, 16, 16, 128)       0         \n",
      "_________________________________________________________________\n",
      "conv2d_24 (Conv2D)           (None, 16, 16, 128)       147584    \n",
      "_________________________________________________________________\n",
      "conv2d_25 (Conv2D)           (None, 16, 16, 128)       147584    \n",
      "_________________________________________________________________\n",
      "conv2d_26 (Conv2D)           (None, 16, 16, 128)       147584    \n",
      "_________________________________________________________________\n",
      "batch_normalization_10 (Batc (None, 16, 16, 128)       512       \n",
      "_________________________________________________________________\n",
      "conv2d_27 (Conv2D)           (None, 16, 16, 256)       295168    \n",
      "_________________________________________________________________\n",
      "conv2d_28 (Conv2D)           (None, 16, 16, 256)       590080    \n",
      "_________________________________________________________________\n",
      "conv2d_29 (Conv2D)           (None, 16, 16, 256)       590080    \n",
      "_________________________________________________________________\n",
      "batch_normalization_11 (Batc (None, 16, 16, 256)       1024      \n",
      "_________________________________________________________________\n",
      "max_pooling2d_7 (MaxPooling2 (None, 8, 8, 256)         0         \n",
      "_________________________________________________________________\n",
      "flatten_2 (Flatten)          (None, 16384)             0         \n",
      "_________________________________________________________________\n",
      "dense_6 (Dense)              (None, 128)               2097280   \n",
      "_________________________________________________________________\n",
      "dropout_4 (Dropout)          (None, 128)               0         \n",
      "_________________________________________________________________\n",
      "dense_7 (Dense)              (None, 10)                1290      \n",
      "=================================================================\n",
      "Total params: 4,279,114\n",
      "Trainable params: 4,277,962\n",
      "Non-trainable params: 1,152\n",
      "_________________________________________________________________\n"
     ]
    }
   ],
   "source": [
    "model = keras.Model( inputs=img_input, outputs=x)\n",
    "\n",
    "model.summary()"
   ]
  },
  {
   "cell_type": "code",
   "execution_count": 72,
   "metadata": {},
   "outputs": [],
   "source": [
    "RAMPUP_EPOCH = 5\n",
    "LR_MAX = 0.001\n",
    "LR_MIN = 0.0001\n",
    "LR_INIT = 0.0001\n",
    "EXP_DECAY = 0.99"
   ]
  },
  {
   "cell_type": "code",
   "execution_count": 73,
   "metadata": {},
   "outputs": [],
   "source": [
    "def lr_schedule_fn(epoch):\n",
    "    if epoch < RAMPUP_EPOCH:\n",
    "        lr = (LR_MAX - LR_MIN) / RAMPUP_EPOCH * epoch + LR_INIT\n",
    "    else:\n",
    "        lr = (LR_MAX - LR_MIN) * EXP_DECAY ** (epoch - RAMPUP_EPOCH)\n",
    "    return lr\n",
    "\n",
    "lr_callback = keras.callbacks.LearningRateScheduler(lr_schedule_fn)"
   ]
  },
  {
   "cell_type": "code",
   "execution_count": 74,
   "metadata": {},
   "outputs": [],
   "source": [
    "patience = 10\n",
    "epochs = 50"
   ]
  },
  {
   "cell_type": "code",
   "execution_count": 75,
   "metadata": {},
   "outputs": [],
   "source": [
    "early_stopping = EarlyStopping(monitor='val_loss', patience=patience)\n",
    "callback = [lr_callback, early_stopping]"
   ]
  },
  {
   "cell_type": "code",
   "execution_count": 76,
   "metadata": {},
   "outputs": [],
   "source": [
    "model.compile(optimizer = 'adam', loss = 'sparse_categorical_crossentropy', metrics = ['accuracy'])"
   ]
  },
  {
   "cell_type": "code",
   "execution_count": 77,
   "metadata": {},
   "outputs": [
    {
     "name": "stdout",
     "output_type": "stream",
     "text": [
      "Epoch 1/50\n",
      "157/157 [==============================] - 32s 197ms/step - loss: 2.3376 - accuracy: 0.2416 - val_loss: 1.8000 - val_accuracy: 0.3324\n",
      "Epoch 2/50\n",
      "157/157 [==============================] - 31s 195ms/step - loss: 1.6968 - accuracy: 0.3743 - val_loss: 2.0664 - val_accuracy: 0.2429\n",
      "Epoch 3/50\n",
      "157/157 [==============================] - 31s 195ms/step - loss: 1.4240 - accuracy: 0.4856 - val_loss: 1.3075 - val_accuracy: 0.5310\n",
      "Epoch 4/50\n",
      "157/157 [==============================] - 31s 195ms/step - loss: 1.2185 - accuracy: 0.5712 - val_loss: 1.2346 - val_accuracy: 0.5574\n",
      "Epoch 5/50\n",
      "157/157 [==============================] - 31s 195ms/step - loss: 1.0353 - accuracy: 0.6377 - val_loss: 1.4050 - val_accuracy: 0.5780\n",
      "Epoch 6/50\n",
      "157/157 [==============================] - 31s 195ms/step - loss: 0.9307 - accuracy: 0.6808 - val_loss: 1.1908 - val_accuracy: 0.6032\n",
      "Epoch 7/50\n",
      "157/157 [==============================] - 31s 195ms/step - loss: 0.8242 - accuracy: 0.7143 - val_loss: 1.0747 - val_accuracy: 0.6565\n",
      "Epoch 8/50\n",
      "157/157 [==============================] - 31s 195ms/step - loss: 0.7662 - accuracy: 0.7377 - val_loss: 1.1037 - val_accuracy: 0.6381\n",
      "Epoch 9/50\n",
      "157/157 [==============================] - 31s 195ms/step - loss: 0.7379 - accuracy: 0.7454 - val_loss: 1.1863 - val_accuracy: 0.6112\n",
      "Epoch 10/50\n",
      "157/157 [==============================] - 31s 195ms/step - loss: 0.6649 - accuracy: 0.7714 - val_loss: 0.8609 - val_accuracy: 0.7171\n",
      "Epoch 11/50\n",
      "157/157 [==============================] - 31s 195ms/step - loss: 0.5816 - accuracy: 0.7969 - val_loss: 0.8805 - val_accuracy: 0.7243\n",
      "Epoch 12/50\n",
      "157/157 [==============================] - 31s 195ms/step - loss: 0.5489 - accuracy: 0.8100 - val_loss: 1.0150 - val_accuracy: 0.7134\n",
      "Epoch 13/50\n",
      "157/157 [==============================] - 31s 195ms/step - loss: 0.4990 - accuracy: 0.8270 - val_loss: 0.8787 - val_accuracy: 0.7343\n",
      "Epoch 14/50\n",
      "157/157 [==============================] - 31s 195ms/step - loss: 0.4536 - accuracy: 0.8430 - val_loss: 0.7665 - val_accuracy: 0.7635\n",
      "Epoch 15/50\n",
      "157/157 [==============================] - 31s 195ms/step - loss: 0.4043 - accuracy: 0.8589 - val_loss: 0.8389 - val_accuracy: 0.7502\n",
      "Epoch 16/50\n",
      "157/157 [==============================] - 31s 195ms/step - loss: 0.3819 - accuracy: 0.8671 - val_loss: 0.8958 - val_accuracy: 0.7558\n",
      "Epoch 17/50\n",
      "157/157 [==============================] - 31s 195ms/step - loss: 0.3403 - accuracy: 0.8839 - val_loss: 0.9585 - val_accuracy: 0.7499\n",
      "Epoch 18/50\n",
      "157/157 [==============================] - 30s 194ms/step - loss: 0.3025 - accuracy: 0.8938 - val_loss: 0.9731 - val_accuracy: 0.7282\n",
      "Epoch 19/50\n",
      "157/157 [==============================] - 30s 193ms/step - loss: 0.2817 - accuracy: 0.9020 - val_loss: 0.8644 - val_accuracy: 0.7664\n",
      "Epoch 20/50\n",
      "157/157 [==============================] - 30s 193ms/step - loss: 0.2497 - accuracy: 0.9128 - val_loss: 1.1081 - val_accuracy: 0.7477\n",
      "Epoch 21/50\n",
      "157/157 [==============================] - 30s 193ms/step - loss: 0.2541 - accuracy: 0.9137 - val_loss: 0.9525 - val_accuracy: 0.7497\n",
      "Epoch 22/50\n",
      "157/157 [==============================] - 30s 194ms/step - loss: 0.2712 - accuracy: 0.9097 - val_loss: 1.2415 - val_accuracy: 0.7470\n",
      "Epoch 23/50\n",
      "157/157 [==============================] - 30s 193ms/step - loss: 0.2258 - accuracy: 0.9238 - val_loss: 1.2677 - val_accuracy: 0.6844\n",
      "Epoch 24/50\n",
      "157/157 [==============================] - 30s 194ms/step - loss: 0.2558 - accuracy: 0.9191 - val_loss: 1.0379 - val_accuracy: 0.7399\n",
      "Epoch 25/50\n",
      "157/157 [==============================] - 30s 194ms/step - loss: 0.2532 - accuracy: 0.9132 - val_loss: 1.1237 - val_accuracy: 0.7415\n",
      "Epoch 26/50\n",
      "157/157 [==============================] - 30s 193ms/step - loss: 0.2997 - accuracy: 0.8995 - val_loss: 1.2974 - val_accuracy: 0.7251\n",
      "Epoch 27/50\n",
      "157/157 [==============================] - 30s 193ms/step - loss: 0.1864 - accuracy: 0.9353 - val_loss: 0.9932 - val_accuracy: 0.7801\n",
      "Epoch 28/50\n",
      "157/157 [==============================] - 30s 194ms/step - loss: 0.1260 - accuracy: 0.9547 - val_loss: 1.1202 - val_accuracy: 0.7612\n",
      "Epoch 29/50\n",
      "157/157 [==============================] - 30s 194ms/step - loss: 0.1250 - accuracy: 0.9573 - val_loss: 1.1401 - val_accuracy: 0.7685\n",
      "Epoch 30/50\n",
      "157/157 [==============================] - 30s 194ms/step - loss: 0.1028 - accuracy: 0.9641 - val_loss: 1.0645 - val_accuracy: 0.7826\n",
      "Epoch 31/50\n",
      "157/157 [==============================] - 30s 194ms/step - loss: 0.0851 - accuracy: 0.9706 - val_loss: 1.1995 - val_accuracy: 0.7788\n",
      "Epoch 32/50\n",
      "157/157 [==============================] - 30s 193ms/step - loss: 0.0845 - accuracy: 0.9703 - val_loss: 1.0204 - val_accuracy: 0.7837\n",
      "Epoch 33/50\n",
      "157/157 [==============================] - 30s 193ms/step - loss: 0.0803 - accuracy: 0.9717 - val_loss: 1.2740 - val_accuracy: 0.7694\n",
      "Epoch 34/50\n",
      "157/157 [==============================] - 30s 193ms/step - loss: 0.0787 - accuracy: 0.9720 - val_loss: 1.1907 - val_accuracy: 0.7833\n",
      "Epoch 35/50\n",
      "157/157 [==============================] - 30s 194ms/step - loss: 0.0909 - accuracy: 0.9689 - val_loss: 1.4195 - val_accuracy: 0.7693\n",
      "Epoch 36/50\n",
      "157/157 [==============================] - 30s 193ms/step - loss: 0.0894 - accuracy: 0.9701 - val_loss: 1.5817 - val_accuracy: 0.7519\n",
      "Epoch 37/50\n",
      "157/157 [==============================] - 30s 193ms/step - loss: 0.0884 - accuracy: 0.9696 - val_loss: 1.5338 - val_accuracy: 0.7545\n",
      "Epoch 38/50\n",
      "157/157 [==============================] - 30s 193ms/step - loss: 0.0808 - accuracy: 0.9721 - val_loss: 1.3373 - val_accuracy: 0.7798\n",
      "Epoch 39/50\n",
      "157/157 [==============================] - 30s 194ms/step - loss: 0.0740 - accuracy: 0.9746 - val_loss: 1.3187 - val_accuracy: 0.7656\n",
      "Epoch 40/50\n",
      "157/157 [==============================] - 30s 193ms/step - loss: 0.0849 - accuracy: 0.9719 - val_loss: 1.3874 - val_accuracy: 0.7740\n",
      "Epoch 41/50\n",
      "157/157 [==============================] - 30s 193ms/step - loss: 0.0792 - accuracy: 0.9733 - val_loss: 1.2697 - val_accuracy: 0.7773\n",
      "Epoch 42/50\n",
      "157/157 [==============================] - 30s 194ms/step - loss: 0.0755 - accuracy: 0.9753 - val_loss: 1.2935 - val_accuracy: 0.7845\n",
      "Epoch 43/50\n",
      "157/157 [==============================] - 30s 193ms/step - loss: 0.0571 - accuracy: 0.9804 - val_loss: 1.8885 - val_accuracy: 0.7232\n",
      "Epoch 44/50\n",
      "157/157 [==============================] - 30s 193ms/step - loss: 0.0715 - accuracy: 0.9755 - val_loss: 1.6524 - val_accuracy: 0.7587\n",
      "Epoch 45/50\n",
      "157/157 [==============================] - 30s 193ms/step - loss: 0.0538 - accuracy: 0.9820 - val_loss: 1.4189 - val_accuracy: 0.7869\n",
      "Epoch 46/50\n",
      "157/157 [==============================] - 30s 193ms/step - loss: 0.0525 - accuracy: 0.9821 - val_loss: 1.7888 - val_accuracy: 0.7415\n",
      "Epoch 47/50\n",
      "157/157 [==============================] - 30s 194ms/step - loss: 0.0750 - accuracy: 0.9754 - val_loss: 1.5841 - val_accuracy: 0.7680\n",
      "Epoch 48/50\n",
      "157/157 [==============================] - 30s 193ms/step - loss: 0.0658 - accuracy: 0.9779 - val_loss: 1.4514 - val_accuracy: 0.7856\n",
      "Epoch 49/50\n",
      "157/157 [==============================] - 30s 193ms/step - loss: 0.0572 - accuracy: 0.9811 - val_loss: 1.6770 - val_accuracy: 0.7595\n",
      "Epoch 50/50\n",
      "157/157 [==============================] - 30s 193ms/step - loss: 0.0624 - accuracy: 0.9783 - val_loss: 1.5074 - val_accuracy: 0.7707\n"
     ]
    },
    {
     "data": {
      "text/plain": [
       "<keras.callbacks.History at 0x267a447a188>"
      ]
     },
     "execution_count": 77,
     "metadata": {},
     "output_type": "execute_result"
    }
   ],
   "source": [
    "model.fit(train_images, train_labels, batch_size = 256, validation_data = (val_images, val_labels), validation_batch_size= 128, epochs = epochs, shuffle = True)"
   ]
  },
  {
   "cell_type": "code",
   "execution_count": 78,
   "metadata": {},
   "outputs": [],
   "source": [
    "pred_proba = model.predict(test_images) \n",
    "\n",
    "pred_class = []\n",
    "\n",
    "for i in pred_proba:\n",
    "    pred = np.argmax(i)\n",
    "    pred_class.append(pred)\n",
    "    \n",
    "pred_class = lab.inverse_transform(pred_class)"
   ]
  },
  {
   "cell_type": "code",
   "execution_count": 46,
   "metadata": {},
   "outputs": [],
   "source": [
    "import pandas as pd"
   ]
  },
  {
   "cell_type": "code",
   "execution_count": 80,
   "metadata": {},
   "outputs": [],
   "source": [
    "sample_submission = pd.read_csv(\"C://Dacon_data/Image_Classification/data/sample_submission.csv\")\n",
    "\n",
    "sample_submission.target = pred_class\n",
    "sample_submission.to_csv(\"submit2.csv\",index=False)"
   ]
  },
  {
   "cell_type": "markdown",
   "metadata": {},
   "source": [
    "-----------------------------------------"
   ]
  },
  {
   "cell_type": "code",
   "execution_count": 19,
   "metadata": {},
   "outputs": [],
   "source": [
    "model = tf.keras.models.Sequential([\n",
    "    tf.keras.layers.Conv2D(256, (3,3), activation='relu', padding='SAME',input_shape=(32, 32, 3)), #cnn layer\n",
    "    tf.keras.layers.BatchNormalization(),\n",
    "    tf.keras.layers.MaxPooling2D(2, 2, padding='SAME'), #pooling layer\n",
    "#     tf.keras.layers.Dropout(0.35)\n",
    "\n",
    "    tf.keras.layers.Conv2D(256, (3,3), activation='relu', padding='SAME'),\n",
    "    tf.keras.layers.BatchNormalization(),\n",
    "    tf.keras.layers.MaxPooling2D(2, 2, padding='SAME'),\n",
    "#     tf.keras.layers.Dropout(0.35),\n",
    "\n",
    "    tf.keras.layers.Conv2D(128, (3,3), activation='relu', padding='SAME'),\n",
    "    tf.keras.layers.BatchNormalization(),\n",
    "    tf.keras.layers.MaxPooling2D(2, 2, padding='SAME'),\n",
    "#     tf.keras.layers.Dropout(0.35),\n",
    "\n",
    "    tf.keras.layers.Conv2D(128, (3,3), activation='relu', padding='SAME'),\n",
    "    tf.keras.layers.BatchNormalization(),\n",
    "    tf.keras.layers.MaxPooling2D(2, 2, padding='SAME'),\n",
    "#     tf.keras.layers.Dropout(0.35),\n",
    "\n",
    "    tf.keras.layers.Conv2D(64, (3,3), activation='relu', padding='SAME'),\n",
    "    tf.keras.layers.BatchNormalization(),\n",
    "    tf.keras.layers.MaxPooling2D(2, 2, padding='SAME'),\n",
    "#     tf.keras.layers.Dropout(0.35),\n",
    "\n",
    "    tf.keras.layers.GlobalAveragePooling2D(),\n",
    "#     tf.keras.layers.Flatten(), # N차원 배열 -> 1차원 배열\n",
    "    tf.keras.layers.Dense(256, activation = 'relu',kernel_regularizer='l2',kernel_initializer=tf.keras.initializers.GlorotNormal()), #fully connected layer\n",
    "    tf.keras.layers.Dropout(0.2),\n",
    "    tf.keras.layers.Dense(256, activation = 'relu',kernel_initializer=tf.keras.initializers.GlorotNormal()), #fully connected layer\n",
    "    tf.keras.layers.Dropout(0.2),\n",
    "    tf.keras.layers.Dense(10, activation = 'softmax') # ouput layer\n",
    "])"
   ]
  },
  {
   "cell_type": "code",
   "execution_count": 20,
   "metadata": {},
   "outputs": [],
   "source": [
    "model.compile(optimizer = 'adam', loss = 'sparse_categorical_crossentropy', metrics = ['accuracy'])"
   ]
  },
  {
   "cell_type": "code",
   "execution_count": 21,
   "metadata": {},
   "outputs": [],
   "source": [
    "train_images = train_images/255.0\n",
    "test_images = test_images/255.0"
   ]
  },
  {
   "cell_type": "code",
   "execution_count": 22,
   "metadata": {},
   "outputs": [],
   "source": [
    "idx = np.arange(train_images.shape[0])\n",
    "np.random.shuffle(idx)"
   ]
  },
  {
   "cell_type": "code",
   "execution_count": 23,
   "metadata": {},
   "outputs": [],
   "source": [
    "shuffle_images = train_images[idx]\n",
    "shuffle_labels = train_labels[idx]"
   ]
  },
  {
   "cell_type": "code",
   "execution_count": 24,
   "metadata": {},
   "outputs": [],
   "source": [
    "from sklearn.model_selection import KFold\n",
    "from keras.callbacks import EarlyStopping, ReduceLROnPlateau"
   ]
  },
  {
   "cell_type": "code",
   "execution_count": 25,
   "metadata": {},
   "outputs": [],
   "source": [
    "kfold = KFold(n_splits= 3)"
   ]
  },
  {
   "cell_type": "code",
   "execution_count": 31,
   "metadata": {},
   "outputs": [
    {
     "name": "stdout",
     "output_type": "stream",
     "text": [
      "fold_count = 0\n",
      "Epoch 1/20\n",
      "261/261 [==============================] - 14s 54ms/step - loss: 0.0092 - accuracy: 0.9987 - val_loss: 0.0170 - val_accuracy: 0.9956\n",
      "Epoch 2/20\n",
      "261/261 [==============================] - 14s 53ms/step - loss: 0.0089 - accuracy: 0.9986 - val_loss: 0.0138 - val_accuracy: 0.9971\n",
      "Epoch 3/20\n",
      "261/261 [==============================] - 14s 53ms/step - loss: 0.0090 - accuracy: 0.9986 - val_loss: 0.0149 - val_accuracy: 0.9966\n",
      "Epoch 4/20\n",
      "261/261 [==============================] - 14s 53ms/step - loss: 0.0072 - accuracy: 0.9992 - val_loss: 0.0107 - val_accuracy: 0.9980\n",
      "Epoch 5/20\n",
      "261/261 [==============================] - 14s 53ms/step - loss: 0.0063 - accuracy: 0.9995 - val_loss: 0.0083 - val_accuracy: 0.9989\n",
      "Epoch 6/20\n",
      "261/261 [==============================] - 14s 53ms/step - loss: 0.0059 - accuracy: 0.9993 - val_loss: 0.0092 - val_accuracy: 0.9986\n",
      "Epoch 7/20\n",
      "261/261 [==============================] - 14s 53ms/step - loss: 0.0054 - accuracy: 0.9996 - val_loss: 0.0082 - val_accuracy: 0.9990\n",
      "Epoch 8/20\n",
      "261/261 [==============================] - 14s 53ms/step - loss: 0.0047 - accuracy: 0.9998 - val_loss: 0.0148 - val_accuracy: 0.9968\n",
      "Epoch 9/20\n",
      "261/261 [==============================] - 14s 53ms/step - loss: 0.0048 - accuracy: 0.9996 - val_loss: 0.0108 - val_accuracy: 0.9980\n",
      "Epoch 10/20\n",
      "261/261 [==============================] - 14s 53ms/step - loss: 0.0042 - accuracy: 0.9998 - val_loss: 0.0119 - val_accuracy: 0.9975\n",
      "Epoch 11/20\n",
      "261/261 [==============================] - 14s 52ms/step - loss: 0.0044 - accuracy: 0.9997 - val_loss: 0.0143 - val_accuracy: 0.9965\n",
      "Epoch 12/20\n",
      "261/261 [==============================] - 14s 53ms/step - loss: 0.0046 - accuracy: 0.9997 - val_loss: 0.0175 - val_accuracy: 0.9957\n",
      "Epoch 13/20\n",
      "261/261 [==============================] - 14s 53ms/step - loss: 0.0058 - accuracy: 0.9992 - val_loss: 0.0254 - val_accuracy: 0.9927\n",
      "Epoch 14/20\n",
      "261/261 [==============================] - 14s 54ms/step - loss: 0.0050 - accuracy: 0.9995 - val_loss: 0.0922 - val_accuracy: 0.9757\n",
      "Epoch 15/20\n",
      "261/261 [==============================] - 14s 52ms/step - loss: 0.0059 - accuracy: 0.9992 - val_loss: 0.0379 - val_accuracy: 0.9878\n",
      "Epoch 16/20\n",
      "261/261 [==============================] - 14s 52ms/step - loss: 0.0063 - accuracy: 0.9992 - val_loss: 0.0431 - val_accuracy: 0.9869\n",
      "Epoch 17/20\n",
      "261/261 [==============================] - 14s 52ms/step - loss: 0.0050 - accuracy: 0.9996 - val_loss: 0.0311 - val_accuracy: 0.9905\n",
      "Epoch 18/20\n",
      "261/261 [==============================] - 13s 52ms/step - loss: 0.0052 - accuracy: 0.9995 - val_loss: 0.0419 - val_accuracy: 0.9870\n",
      "Epoch 19/20\n",
      "261/261 [==============================] - 14s 54ms/step - loss: 0.0044 - accuracy: 0.9996 - val_loss: 0.0251 - val_accuracy: 0.9929\n",
      "Epoch 20/20\n",
      "261/261 [==============================] - 15s 56ms/step - loss: 0.0045 - accuracy: 0.9996 - val_loss: 0.0582 - val_accuracy: 0.9824\n",
      "fold_count = 1\n",
      "Epoch 1/20\n",
      "261/261 [==============================] - 14s 55ms/step - loss: 0.0302 - accuracy: 0.9919 - val_loss: 0.0083 - val_accuracy: 0.9992\n",
      "Epoch 2/20\n",
      "261/261 [==============================] - 13s 51ms/step - loss: 0.0119 - accuracy: 0.9976 - val_loss: 0.0062 - val_accuracy: 0.9995\n",
      "Epoch 3/20\n",
      "261/261 [==============================] - 13s 50ms/step - loss: 0.0086 - accuracy: 0.9986 - val_loss: 0.0059 - val_accuracy: 0.9997\n",
      "Epoch 4/20\n",
      "261/261 [==============================] - 13s 49ms/step - loss: 0.0078 - accuracy: 0.9991 - val_loss: 0.0067 - val_accuracy: 0.9989\n",
      "Epoch 5/20\n",
      "261/261 [==============================] - 13s 49ms/step - loss: 0.0074 - accuracy: 0.9991 - val_loss: 0.0090 - val_accuracy: 0.9981\n",
      "Epoch 6/20\n",
      "261/261 [==============================] - 13s 49ms/step - loss: 0.0067 - accuracy: 0.9991 - val_loss: 0.0207 - val_accuracy: 0.9956\n",
      "Epoch 7/20\n",
      "261/261 [==============================] - 13s 49ms/step - loss: 0.0068 - accuracy: 0.9991 - val_loss: 0.0058 - val_accuracy: 0.9991\n",
      "Epoch 8/20\n",
      "261/261 [==============================] - 13s 49ms/step - loss: 0.0065 - accuracy: 0.9993 - val_loss: 0.0082 - val_accuracy: 0.9987\n",
      "Epoch 9/20\n",
      "261/261 [==============================] - 13s 50ms/step - loss: 0.0052 - accuracy: 0.9996 - val_loss: 0.0063 - val_accuracy: 0.9992\n",
      "Epoch 10/20\n",
      "261/261 [==============================] - 14s 52ms/step - loss: 0.0063 - accuracy: 0.9991 - val_loss: 0.0046 - val_accuracy: 0.9997\n",
      "Epoch 11/20\n",
      "261/261 [==============================] - 14s 53ms/step - loss: 0.0056 - accuracy: 0.9994 - val_loss: 0.0067 - val_accuracy: 0.9988\n",
      "Epoch 12/20\n",
      "261/261 [==============================] - 14s 53ms/step - loss: 0.0057 - accuracy: 0.9994 - val_loss: 0.0192 - val_accuracy: 0.9956\n",
      "Epoch 13/20\n",
      "261/261 [==============================] - 14s 53ms/step - loss: 0.0072 - accuracy: 0.9988 - val_loss: 0.0127 - val_accuracy: 0.9969\n",
      "Epoch 14/20\n",
      "261/261 [==============================] - 14s 53ms/step - loss: 0.0063 - accuracy: 0.9992 - val_loss: 0.0122 - val_accuracy: 0.9972\n",
      "Epoch 15/20\n",
      "261/261 [==============================] - 14s 54ms/step - loss: 0.0067 - accuracy: 0.9992 - val_loss: 0.0095 - val_accuracy: 0.9981\n",
      "Epoch 16/20\n",
      "261/261 [==============================] - 14s 54ms/step - loss: 0.0056 - accuracy: 0.9993 - val_loss: 0.0113 - val_accuracy: 0.9973\n",
      "Epoch 17/20\n",
      "261/261 [==============================] - 14s 54ms/step - loss: 0.0067 - accuracy: 0.9990 - val_loss: 0.0097 - val_accuracy: 0.9982\n",
      "Epoch 18/20\n",
      "261/261 [==============================] - 14s 54ms/step - loss: 0.0057 - accuracy: 0.9993 - val_loss: 0.0086 - val_accuracy: 0.9983\n",
      "Epoch 19/20\n",
      "261/261 [==============================] - 14s 53ms/step - loss: 0.0064 - accuracy: 0.9991 - val_loss: 0.0078 - val_accuracy: 0.9988\n",
      "Epoch 20/20\n",
      "261/261 [==============================] - 14s 53ms/step - loss: 0.0062 - accuracy: 0.9993 - val_loss: 0.0149 - val_accuracy: 0.9962\n",
      "fold_count = 2\n",
      "Epoch 1/20\n",
      "261/261 [==============================] - 14s 54ms/step - loss: 0.0127 - accuracy: 0.9970 - val_loss: 0.0084 - val_accuracy: 0.9985\n",
      "Epoch 2/20\n",
      "261/261 [==============================] - 14s 53ms/step - loss: 0.0089 - accuracy: 0.9985 - val_loss: 0.0042 - val_accuracy: 0.9999\n",
      "Epoch 3/20\n",
      "261/261 [==============================] - 14s 53ms/step - loss: 0.0082 - accuracy: 0.9986 - val_loss: 0.0058 - val_accuracy: 0.9993\n",
      "Epoch 4/20\n",
      "261/261 [==============================] - 14s 52ms/step - loss: 0.0101 - accuracy: 0.9980 - val_loss: 0.0046 - val_accuracy: 1.0000\n",
      "Epoch 5/20\n",
      "261/261 [==============================] - 14s 52ms/step - loss: 0.0089 - accuracy: 0.9986 - val_loss: 0.0073 - val_accuracy: 0.9990\n",
      "Epoch 6/20\n",
      "261/261 [==============================] - 13s 52ms/step - loss: 0.0060 - accuracy: 0.9992 - val_loss: 0.0041 - val_accuracy: 0.9998\n",
      "Epoch 7/20\n",
      "261/261 [==============================] - 13s 52ms/step - loss: 0.0065 - accuracy: 0.9991 - val_loss: 0.0042 - val_accuracy: 0.9999\n",
      "Epoch 8/20\n",
      "261/261 [==============================] - 13s 52ms/step - loss: 0.0063 - accuracy: 0.9992 - val_loss: 0.0055 - val_accuracy: 0.9992\n",
      "Epoch 9/20\n",
      "261/261 [==============================] - 13s 52ms/step - loss: 0.0061 - accuracy: 0.9992 - val_loss: 0.0045 - val_accuracy: 0.9998\n",
      "Epoch 10/20\n",
      "261/261 [==============================] - 13s 52ms/step - loss: 0.0052 - accuracy: 0.9995 - val_loss: 0.0041 - val_accuracy: 0.9996\n",
      "Epoch 11/20\n",
      "261/261 [==============================] - 13s 51ms/step - loss: 0.0055 - accuracy: 0.9996 - val_loss: 0.0036 - val_accuracy: 0.9999\n",
      "Epoch 12/20\n",
      "261/261 [==============================] - 13s 52ms/step - loss: 0.0051 - accuracy: 0.9996 - val_loss: 0.0044 - val_accuracy: 0.9996\n",
      "Epoch 13/20\n",
      "261/261 [==============================] - 13s 52ms/step - loss: 0.0049 - accuracy: 0.9996 - val_loss: 0.0044 - val_accuracy: 0.9995\n",
      "Epoch 14/20\n",
      "261/261 [==============================] - 13s 51ms/step - loss: 0.0059 - accuracy: 0.9993 - val_loss: 0.0079 - val_accuracy: 0.9983\n",
      "Epoch 15/20\n",
      "261/261 [==============================] - 13s 51ms/step - loss: 0.0051 - accuracy: 0.9995 - val_loss: 0.0102 - val_accuracy: 0.9974\n",
      "Epoch 16/20\n",
      "261/261 [==============================] - 13s 52ms/step - loss: 0.0088 - accuracy: 0.9984 - val_loss: 0.0269 - val_accuracy: 0.9932\n",
      "Epoch 17/20\n",
      "261/261 [==============================] - 13s 51ms/step - loss: 0.0108 - accuracy: 0.9979 - val_loss: 0.0197 - val_accuracy: 0.9945\n",
      "Epoch 18/20\n",
      "261/261 [==============================] - 13s 51ms/step - loss: 0.0078 - accuracy: 0.9987 - val_loss: 0.0066 - val_accuracy: 0.9990\n",
      "Epoch 19/20\n",
      "261/261 [==============================] - 13s 52ms/step - loss: 0.0071 - accuracy: 0.9990 - val_loss: 0.0076 - val_accuracy: 0.9987\n",
      "Epoch 20/20\n",
      "261/261 [==============================] - 14s 54ms/step - loss: 0.0062 - accuracy: 0.9990 - val_loss: 0.0082 - val_accuracy: 0.9984\n"
     ]
    }
   ],
   "source": [
    "with tf.device('/device:GPU:0'):\n",
    "  fold_count = 0\n",
    "  for train_idx, validataion_idx in kfold.split(shuffle_images): # shuffle_images (5만개)의 데이터를 kfold\n",
    "    X_train , X_valid = shuffle_images[train_idx] , shuffle_images[validataion_idx]\n",
    "    y_train , y_valid = shuffle_labels[train_idx] , shuffle_labels[validataion_idx]\n",
    "\n",
    "    print(\"fold_count =\",fold_count)\n",
    "    # cb_early_stopping = EarlyStopping(monitor='val_loss', patience=8,verbose= 1) # 현재는 earlystop을 사용하지 않음(why? > k-fold를 통해 최대한 학습을 하고 싶음)\n",
    "    reduce_lr = ReduceLROnPlateau(monitor='val_loss', factor=0.8, patience=3, min_lr=0.0001,verbose = 1) # 학습률을 0.0001까지 줄일수 있음\n",
    "\n",
    "    history = model.fit(X_train, y_train, validation_data=(X_valid, y_valid), epochs=20, batch_size=128, \n",
    "              callbacks=[reduce_lr],shuffle=True)\n",
    "    fold_count += 1"
   ]
  },
  {
   "cell_type": "code",
   "execution_count": 32,
   "metadata": {},
   "outputs": [
    {
     "data": {
      "text/plain": [
       "array(['horse', 'bird', 'airplane', 'cat', 'bird'], dtype='<U10')"
      ]
     },
     "execution_count": 32,
     "metadata": {},
     "output_type": "execute_result"
    }
   ],
   "source": [
    "pred_proba = model.predict(test_images) \n",
    "\n",
    "pred_class = []\n",
    "\n",
    "for i in pred_proba:\n",
    "    pred = np.argmax(i)\n",
    "    pred_class.append(pred)\n",
    "    \n",
    "pred_class = lab.inverse_transform(pred_class)\n",
    "pred_class[0:5]"
   ]
  },
  {
   "cell_type": "code",
   "execution_count": 29,
   "metadata": {},
   "outputs": [],
   "source": [
    "import pandas as pd"
   ]
  },
  {
   "cell_type": "code",
   "execution_count": 33,
   "metadata": {},
   "outputs": [],
   "source": [
    "sample_submission = pd.read_csv(\"C://Dacon_data/Image_Classification/data/sample_submission.csv\")\n",
    "\n",
    "sample_submission.target = pred_class\n",
    "sample_submission.to_csv(\"submit5.csv\",index=False)"
   ]
  },
  {
   "cell_type": "code",
   "execution_count": null,
   "metadata": {},
   "outputs": [],
   "source": []
  }
 ],
 "metadata": {
  "kernelspec": {
   "display_name": "MPS",
   "language": "python",
   "name": "mps"
  },
  "language_info": {
   "codemirror_mode": {
    "name": "ipython",
    "version": 3
   },
   "file_extension": ".py",
   "mimetype": "text/x-python",
   "name": "python",
   "nbconvert_exporter": "python",
   "pygments_lexer": "ipython3",
   "version": "3.7.11"
  }
 },
 "nbformat": 4,
 "nbformat_minor": 4
}
